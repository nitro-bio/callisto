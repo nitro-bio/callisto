{
 "cells": [
  {
   "cell_type": "code",
   "execution_count": 6,
   "metadata": {},
   "outputs": [
    {
     "data": {
      "application/vnd.jupyter.widget-view+json": {
       "model_id": "3975744fd4de4806839ea8d7bdc485d8",
       "version_major": 2,
       "version_minor": 1
      },
      "text/plain": [
       "myWidget()"
      ]
     },
     "execution_count": 6,
     "metadata": {},
     "output_type": "execute_result"
    }
   ],
   "source": [
    "import pathlib\n",
    "import anywidget\n",
    "\n",
    "class myWidget(anywidget.AnyWidget):\n",
    "    _esm = pathlib.Path(\"../bundle/callisto_frontend.js\")\n",
    "    _css = pathlib.Path(\"../bundle/callisto_frontend.css\")\n",
    "\n",
    "m = myWidget()\n",
    "m"
   ]
  },
  {
   "cell_type": "code",
   "execution_count": null,
   "metadata": {},
   "outputs": [],
   "source": []
  }
 ],
 "metadata": {
  "kernelspec": {
   "display_name": "Python 3 (ipykernel)",
   "language": "python",
   "name": "python3"
  },
  "language_info": {
   "codemirror_mode": {
    "name": "ipython",
    "version": 3
   },
   "file_extension": ".py",
   "mimetype": "text/x-python",
   "name": "python",
   "nbconvert_exporter": "python",
   "pygments_lexer": "ipython3",
   "version": "3.13.1"
  }
 },
 "nbformat": 4,
 "nbformat_minor": 4
}
