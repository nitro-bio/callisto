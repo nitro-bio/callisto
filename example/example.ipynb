{
 "cells": [
  {
   "cell_type": "code",
   "execution_count": 1,
   "metadata": {},
   "outputs": [],
   "source": [
    "import pathlib\n",
    "import anywidget\n",
    "import traitlets\n",
    "\n",
    "class SequenceViewer(anywidget.AnyWidget):\n",
    "    _esm = pathlib.Path(\"../bundle/callisto_frontend.js\")\n",
    "    _css = pathlib.Path(\"../bundle/callisto_frontend.css\")\n",
    "    sequences = traitlets.List([\"ATGC\" * 100,]).tag(sync=True)\n",
    "    selection = traitlets.TraitType({ \"start\": 34, \"end\": 300, \"direction\": \"forward\"}).tag(sync=True)\n"
   ]
  },
  {
   "cell_type": "code",
   "execution_count": 4,
   "metadata": {},
   "outputs": [
    {
     "data": {
      "application/vnd.jupyter.widget-view+json": {
       "model_id": "44b65d6316b04fb796c589d461da24f5",
       "version_major": 2,
       "version_minor": 1
      },
      "text/plain": [
       "SequenceViewer(sequences=['ATGCATGCATGCATGCATGCATGCATGCATGCATGCATGCATGCATGCATGCATGCATGCATGCATGCATGCATGCATGCATG…"
      ]
     },
     "execution_count": 4,
     "metadata": {},
     "output_type": "execute_result"
    }
   ],
   "source": [
    "nitro_seq_viewer = SequenceViewer()\n",
    "nitro_seq_viewer"
   ]
  },
  {
   "cell_type": "code",
   "execution_count": 6,
   "metadata": {},
   "outputs": [
    {
     "name": "stdout",
     "output_type": "stream",
     "text": [
      "{'start': 325, 'end': 91, 'direction': 'forward'}\n"
     ]
    }
   ],
   "source": [
    "print(nitro_seq_viewer.selection)"
   ]
  },
  {
   "cell_type": "code",
   "execution_count": null,
   "metadata": {},
   "outputs": [],
   "source": []
  }
 ],
 "metadata": {
  "kernelspec": {
   "display_name": "Python 3 (ipykernel)",
   "language": "python",
   "name": "python3"
  },
  "language_info": {
   "codemirror_mode": {
    "name": "ipython",
    "version": 3
   },
   "file_extension": ".py",
   "mimetype": "text/x-python",
   "name": "python",
   "nbconvert_exporter": "python",
   "pygments_lexer": "ipython3",
   "version": "3.13.1"
  }
 },
 "nbformat": 4,
 "nbformat_minor": 4
}
