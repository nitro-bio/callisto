{
 "cells": [
  {
   "cell_type": "code",
   "execution_count": 24,
   "metadata": {},
   "outputs": [
    {
     "name": "stdout",
     "output_type": "stream",
     "text": [
      "{'start': 0, 'end': 100, 'direction': 'forward'}\n"
     ]
    }
   ],
   "source": [
    "import pathlib\n",
    "import anywidget\n",
    "from traitlets import TraitType\n",
    "\n",
    "class myWidget(anywidget.AnyWidget):\n",
    "    _esm = pathlib.Path(\"../bundle/callisto_frontend.js\")\n",
    "    _css = pathlib.Path(\"../bundle/callisto_frontend.css\")\n",
    "    selection = TraitType({ \"start\": 0, \"end\": 100, \"direction\": \"forward\"})\n",
    "m = myWidget()\n",
    "m\n",
    "print(m.selection)"
   ]
  },
  {
   "cell_type": "code",
   "execution_count": null,
   "metadata": {},
   "outputs": [],
   "source": []
  }
 ],
 "metadata": {
  "kernelspec": {
   "display_name": "Python 3 (ipykernel)",
   "language": "python",
   "name": "python3"
  },
  "language_info": {
   "codemirror_mode": {
    "name": "ipython",
    "version": 3
   },
   "file_extension": ".py",
   "mimetype": "text/x-python",
   "name": "python",
   "nbconvert_exporter": "python",
   "pygments_lexer": "ipython3",
   "version": "3.13.1"
  }
 },
 "nbformat": 4,
 "nbformat_minor": 4
}
